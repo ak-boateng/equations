{
  "nbformat": 4,
  "nbformat_minor": 0,
  "metadata": {
    "colab": {
      "provenance": [],
      "toc_visible": true,
      "authorship_tag": "ABX9TyMgo6n8DD3E5BPqN7ODexH4",
      "include_colab_link": true
    },
    "kernelspec": {
      "name": "python3",
      "display_name": "Python 3"
    },
    "language_info": {
      "name": "python"
    }
  },
  "cells": [
    {
      "cell_type": "markdown",
      "metadata": {
        "id": "view-in-github",
        "colab_type": "text"
      },
      "source": [
        "<a href=\"https://colab.research.google.com/github/ak-boateng/equations/blob/main/Maths_with_Numpy.ipynb\" target=\"_parent\"><img src=\"https://colab.research.google.com/assets/colab-badge.svg\" alt=\"Open In Colab\"/></a>"
      ]
    },
    {
      "cell_type": "markdown",
      "source": [
        "# Mathematical concepts with Numpy\n",
        "\n"
      ],
      "metadata": {
        "id": "iEu17gd68Civ"
      }
    },
    {
      "cell_type": "markdown",
      "source": [
        "## Overview\n",
        "This notebook covers most of the basic mathematical equations implemented using [Numpy](https://numpy.org/).\n",
        "NumPy is a powerful Python library for numerical computations, ideal for solving various mathematical equations efficiently. Here are common examples with code snippets:"
      ],
      "metadata": {
        "id": "voP1FdWP9gLH"
      }
    },
    {
      "cell_type": "code",
      "source": [
        "#importing the necessary library(Numpy)\n",
        "import numpy as np"
      ],
      "metadata": {
        "id": "k_Q5Ycsu92rk"
      },
      "execution_count": 5,
      "outputs": []
    },
    {
      "cell_type": "markdown",
      "source": [
        "## Linear Equations\n",
        "Solve systems like Ax = b using matrix operations."
      ],
      "metadata": {
        "id": "Q2MDX62K_mOa"
      }
    },
    {
      "cell_type": "code",
      "source": [
        "# Example: Solve\n",
        "# 2x + y = 5\n",
        "# x - 3y = -1\n",
        "A = np.array([[2, 1], [1, -3]])\n",
        "b = np.array([5, -1])\n",
        "x = np.linalg.solve(A, b)  # Output: [2., 1.]\n",
        "x"
      ],
      "metadata": {
        "colab": {
          "base_uri": "https://localhost:8080/"
        },
        "id": "AOwkxqCG_5yf",
        "outputId": "14b35890-26c9-4032-a4ab-f38a31874935"
      },
      "execution_count": 6,
      "outputs": [
        {
          "output_type": "execute_result",
          "data": {
            "text/plain": [
              "array([2., 1.])"
            ]
          },
          "metadata": {},
          "execution_count": 6
        }
      ]
    },
    {
      "cell_type": "markdown",
      "source": [
        "## Polynomial Functions"
      ],
      "metadata": {
        "id": "MEsLyeqB_GvT"
      }
    },
    {
      "cell_type": "code",
      "source": [
        "# Polynomial Functions\n",
        "# These functions are usually of the form ax + bx + c\n",
        "# Example: Find roots of polynomials (e.g., x2−4x+3=0).\n",
        "\n",
        "#assigning the coefficients to a variable named coefficients\n",
        "coefficients = [1, -4, 3]\n",
        "\n",
        "#finding the roots using Numpy built-in roots function\n",
        "roots = np.roots(coefficients)  # Output: [3., 1.]\n",
        "roots"
      ],
      "metadata": {
        "colab": {
          "base_uri": "https://localhost:8080/"
        },
        "id": "dXTEqOX28Jvd",
        "outputId": "d6f753f2-a98f-4a3d-bfa6-4aebc83b1428"
      },
      "execution_count": 7,
      "outputs": [
        {
          "output_type": "execute_result",
          "data": {
            "text/plain": [
              "array([3., 1.])"
            ]
          },
          "metadata": {},
          "execution_count": 7
        }
      ]
    },
    {
      "cell_type": "code",
      "source": [],
      "metadata": {
        "id": "stfXuSVc--rp"
      },
      "execution_count": 7,
      "outputs": []
    }
  ]
}